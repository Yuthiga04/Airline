{
  "nbformat": 4,
  "nbformat_minor": 0,
  "metadata": {
    "colab": {
      "provenance": []
    },
    "kernelspec": {
      "name": "python3",
      "display_name": "Python 3"
    },
    "language_info": {
      "name": "python"
    }
  },
  "cells": [
    {
      "cell_type": "code",
      "execution_count": 1,
      "metadata": {
        "id": "bixx9nLYRLBC"
      },
      "outputs": [],
      "source": [
        "import random\n",
        "import string\n",
        "import numpy as np\n",
        "import pandas as pd"
      ]
    },
    {
      "cell_type": "code",
      "source": [
        "def check_type(n):\n",
        "    try:\n",
        "        a=int(n)\n",
        "        return a\n",
        "    except ValueError:\n",
        "        try:\n",
        "            a=float(n)\n",
        "            return a\n",
        "        except:\n",
        "            return n\n",
        "    return n"
      ],
      "metadata": {
        "id": "ti8CLBevRNGS"
      },
      "execution_count": 2,
      "outputs": []
    },
    {
      "cell_type": "code",
      "source": [
        "def display_menu():\n",
        "    return \"1.Flight Availability\",\"2.Ticket Booking\",\"3.Ticket Cancellation\",\"4.Flight Detail\",\"5.Exit\""
      ],
      "metadata": {
        "id": "gmFY9ay9RTYl"
      },
      "execution_count": 3,
      "outputs": []
    },
    {
      "cell_type": "code",
      "source": [
        "def flight_class():\n",
        "    return \"Business\",\"First\",\"Economy\""
      ],
      "metadata": {
        "id": "7qfRdIziRUot"
      },
      "execution_count": 4,
      "outputs": []
    },
    {
      "cell_type": "code",
      "source": [
        "def flights_availability():\n",
        "    dic={}\n",
        "    n=int(input(\"No of Flights: \"))\n",
        "    i=1\n",
        "    while i<=n:\n",
        "        key=input(\"Enter the flight name: \")\n",
        "        value=[]\n",
        "        n1=int(input(\"No of classes available: \"))\n",
        "        for j in range(n1):\n",
        "            c=check_type(input(\"Enter the number of seats available: \"))\n",
        "            value.append(c)\n",
        "        dic[key]=value\n",
        "        i+=1\n",
        "    return dic"
      ],
      "metadata": {
        "id": "6ux81c32RZi_"
      },
      "execution_count": 5,
      "outputs": []
    },
    {
      "cell_type": "code",
      "source": [
        "idx=['Business','First','Economy']\n",
        "a=flights_availability()\n",
        "df=pd.DataFrame(a,idx)"
      ],
      "metadata": {
        "colab": {
          "base_uri": "https://localhost:8080/"
        },
        "id": "Jsbg_Se0RabP",
        "outputId": "055b9150-bf6a-4af0-8146-f93fc83983e7"
      },
      "execution_count": 6,
      "outputs": [
        {
          "name": "stdout",
          "output_type": "stream",
          "text": [
            "No of Flights: 6\n",
            "Enter the flight name: SpiceJet\n",
            "No of classes available: 3\n",
            "Enter the number of seats available: 3\n",
            "Enter the number of seats available: 4\n",
            "Enter the number of seats available: 5\n",
            "Enter the flight name: Indigo\n",
            "No of classes available: 3\n",
            "Enter the number of seats available: 3\n",
            "Enter the number of seats available: 2\n",
            "Enter the number of seats available: 6\n",
            "Enter the flight name: KingFisher\n",
            "No of classes available: 3\n",
            "Enter the number of seats available: 1\n",
            "Enter the number of seats available: 2\n",
            "Enter the number of seats available: 5\n",
            "Enter the flight name: Vistara\n",
            "No of classes available: 3\n",
            "Enter the number of seats available: 5\n",
            "Enter the number of seats available: 4\n",
            "Enter the number of seats available: 2\n",
            "Enter the flight name: Emirates\n",
            "No of classes available: 3\n",
            "Enter the number of seats available: 3\n",
            "Enter the number of seats available: 1\n",
            "Enter the number of seats available: 4\n",
            "Enter the flight name: Scoot\n",
            "No of classes available: 3\n",
            "Enter the number of seats available: 8\n",
            "Enter the number of seats available: 2\n",
            "Enter the number of seats available: 1\n"
          ]
        }
      ]
    },
    {
      "cell_type": "code",
      "source": [
        "unique=set()\n",
        "valid_chars='0123456789'\n",
        "def ticket(length):\n",
        "    p=''\n",
        "    count=0\n",
        "    while count<length:\n",
        "        rnum=random.randint(0,128)\n",
        "        char=chr(rnum)\n",
        "        if char in valid_chars:\n",
        "            p+=chr(rnum)\n",
        "            count+=1\n",
        "    w='TCKT-'+p\n",
        "    if w not in unique:\n",
        "        unique.add(w)\n",
        "        return w\n",
        "    else:\n",
        "        return ticket(7)"
      ],
      "metadata": {
        "id": "KDPPVUCYRdPW"
      },
      "execution_count": 7,
      "outputs": []
    },
    {
      "cell_type": "code",
      "source": [
        "def passenger_details():\n",
        "    global df,d1\n",
        "    dic6={}\n",
        "    n=int(input(\"No of passengers: \"))\n",
        "    for i in range(n):\n",
        "        key=f\"{i+1}\"\n",
        "        n1=1\n",
        "        for _ in range(n1):\n",
        "            name=input(f\"Enter name of passenger{i+1}: \")\n",
        "            check_name=input(\"Please check the spelling of your name. Is it right?(yes or no): \")\n",
        "            if check_name=='no':\n",
        "                name=input(f\"Enter name of passenger{i+1}: \")\n",
        "            age=int(input(f\"Enter age of passenger{i+1} (only in numbers): \"))\n",
        "            check_age=input(\"Please check your age. Is it right?(yes or no): \")\n",
        "            if check_age=='no':\n",
        "                age=int(input(f\"Enter age of passenger{i+1} (only in numbers): \"))\n",
        "            gender=str(input(f\"Enter gender of passenger{i+1} (F/M/Others):\"))\n",
        "            b=df.columns\n",
        "            flight=str(input(f\"Enter the flight name {b}: \"))\n",
        "            check_flight=input(\"Please check the spelling of Flight name. Is it right?(yes or no): \")\n",
        "            if check_flight=='no':\n",
        "                flight=str(input(f\"Enter the flight name {b}: \"))\n",
        "            y,u,t=flight_class()\n",
        "            class_1=str(input(f\"Enter the class name {y,u,t}: \"))\n",
        "            check_class=input(\"Please check the spelling of Class name. Is it right?(yes or no): \")\n",
        "            if check_class=='no':\n",
        "                class_1=str(input(f\"Enter the class name {y,u,t}: \"))\n",
        "            if df[flight][class_1]==0:\n",
        "                print(f\"{class_1} class is not available in the flight {flight}\")\n",
        "                g,o,p=flight_class()\n",
        "                class_1=str(input(f\"Enter the class name {g,o,p}: \"))\n",
        "            ticket_1=ticket(7)\n",
        "        dic6[key]={'Name': name, 'Age':age,'Gender':gender,'Flight Name':flight,'Class':class_1,'Ticket No':ticket_1}\n",
        "        df[flight][class_1]-=1\n",
        "    new_df=pd.DataFrame(dic6).T\n",
        "    new_df=new_df[['Name','Age','Gender','Flight Name','Class','Ticket No']]\n",
        "    if 'd1' in globals():\n",
        "        d1 = pd.concat([d1, new_df],ignore_index=True)\n",
        "    else:\n",
        "        d1 = new_df\n",
        "    print(d1)\n",
        "    print(df)\n",
        "    print(\"Your Booking has been confirmed. Please enjoy your flight.\")"
      ],
      "metadata": {
        "id": "JfjSGC_zRfiA"
      },
      "execution_count": 14,
      "outputs": []
    },
    {
      "cell_type": "code",
      "source": [
        "def booking_cancellation():\n",
        "    global d1\n",
        "    del_tckt=int(input(\"Enter the no of tickets to be cancelled: \"))\n",
        "    for _ in range(del_tckt):\n",
        "        tckt_no=check_type(input(\"Enter the ticket no that is to be cancelled: \"))\n",
        "        check_ticketno=input(\"Please check the ticket number. Is it right?(yes or no): \")\n",
        "        if check_ticketno=='no':\n",
        "            tckt_no=check_type(input(\"Enter the ticket no that is to be cancelled: \"))\n",
        "        s=d1[d1['Ticket No']==tckt_no]\n",
        "        idx=s.index[0] if not s.empty else None\n",
        "        flight_name=s['Flight Name'][idx]\n",
        "        class_name=s['Class'][idx]\n",
        "        df[flight_name][class_name]+=1\n",
        "        d1=d1[d1['Ticket No']!=tckt_no]\n",
        "    print(d1)\n",
        "    d1.to_csv(f\"/content/sample_data/new_dataset.csv\")\n",
        "    print(\"Your ticket has been cancelled successfully.\")"
      ],
      "metadata": {
        "id": "EsAZbKtERh9v"
      },
      "execution_count": 9,
      "outputs": []
    },
    {
      "cell_type": "code",
      "source": [
        "def uniq_ele(lis):\n",
        "    return set(lis)"
      ],
      "metadata": {
        "id": "BpGTD6xFRkhH"
      },
      "execution_count": 10,
      "outputs": []
    },
    {
      "cell_type": "code",
      "source": [
        "global d1\n",
        "def flight_detail():\n",
        "    lis=list(d1['Flight Name'])\n",
        "    unique_flights=uniq_ele(lis)\n",
        "    for i in unique_flights:\n",
        "        d2=d1[d1['Flight Name']==i]\n",
        "        print(d2)\n",
        "        d2.to_csv(f'/content/sample_data/new_dataset {i}.csv')"
      ],
      "metadata": {
        "id": "19H3UON3Rmw-"
      },
      "execution_count": 11,
      "outputs": []
    },
    {
      "cell_type": "code",
      "source": [
        "while True:\n",
        "    h,i,g,z,x=display_menu()\n",
        "    choice=int(input(f\"Enter your choice {h,i,g,z,x}: \"))\n",
        "    if choice==1:\n",
        "        print(df)\n",
        "    elif choice==2:\n",
        "        passenger_details()\n",
        "    elif choice==3:\n",
        "        booking_cancellation()\n",
        "    elif choice==4:\n",
        "        flight_detail()\n",
        "    elif choice==5:\n",
        "        print(\"Thank you for using our website.\")\n",
        "        break\n",
        "    else:\n",
        "        print(\"Invalid Choice. Please enter choices from 1-5.\")"
      ],
      "metadata": {
        "colab": {
          "base_uri": "https://localhost:8080/"
        },
        "id": "7S9l1j4tRqDd",
        "outputId": "480895e8-59ef-4d16-bbe7-e1be01a4ef2b"
      },
      "execution_count": 13,
      "outputs": [
        {
          "output_type": "stream",
          "name": "stdout",
          "text": [
            "Enter your choice ('1.Flight Availability', '2.Ticket Booking', '3.Ticket Cancellation', '4.Flight Detail', '5.Exit'): 1\n",
            "          SpiceJet  Indigo  KingFisher  Vistara  Emirates  Scoot\n",
            "Business         3       3           1        5         3      8\n",
            "First            4       2           2        4         1      2\n",
            "Economy          5       6           5        2         4      1\n",
            "Enter your choice ('1.Flight Availability', '2.Ticket Booking', '3.Ticket Cancellation', '4.Flight Detail', '5.Exit'): 2\n",
            "No of passengers: 10\n",
            "Enter name of passenger1: Jayabalan\n",
            "Please check the spelling of your name. Is it right?(yes or no): yes\n",
            "Enter age of passenger1 (only in numbers): 70\n",
            "Please check your age. Is it right?(yes or no): yes\n",
            "Enter gender of passenger1 (F/M/Others):M\n",
            "Enter the flight name Index(['SpiceJet', 'Indigo', 'KingFisher', 'Vistara', 'Emirates', 'Scoot'], dtype='object'): SpiceJet\n",
            "Please check the spelling of Flight name. Is it right?(yes or no): yes\n",
            "Enter the class name ('Business', 'First', 'Economy'): Business\n",
            "Please check the spelling of Class name. Is it right?(yes or no): yes\n",
            "Enter name of passenger2: Kousalya Devi\n",
            "Please check the spelling of your name. Is it right?(yes or no): yes\n",
            "Enter age of passenger2 (only in numbers): 68\n",
            "Please check your age. Is it right?(yes or no): yes\n",
            "Enter gender of passenger2 (F/M/Others):F\n",
            "Enter the flight name Index(['SpiceJet', 'Indigo', 'KingFisher', 'Vistara', 'Emirates', 'Scoot'], dtype='object'): SpiceJet\n",
            "Please check the spelling of Flight name. Is it right?(yes or no): yes\n",
            "Enter the class name ('Business', 'First', 'Economy'): Business\n",
            "Please check the spelling of Class name. Is it right?(yes or no): yes\n",
            "Enter name of passenger3: Arun\n",
            "Please check the spelling of your name. Is it right?(yes or no): yes\n",
            "Enter age of passenger3 (only in numbers): 47\n",
            "Please check your age. Is it right?(yes or no): yes\n",
            "Enter gender of passenger3 (F/M/Others):M\n",
            "Enter the flight name Index(['SpiceJet', 'Indigo', 'KingFisher', 'Vistara', 'Emirates', 'Scoot'], dtype='object'): Indigo\n",
            "Please check the spelling of Flight name. Is it right?(yes or no): yes\n",
            "Enter the class name ('Business', 'First', 'Economy'): First\n",
            "Please check the spelling of Class name. Is it right?(yes or no): yes\n",
            "Enter name of passenger4: Anusha\n",
            "Please check the spelling of your name. Is it right?(yes or no): yes\n",
            "Enter age of passenger4 (only in numbers): 45\n",
            "Please check your age. Is it right?(yes or no): yes\n",
            "Enter gender of passenger4 (F/M/Others):F\n",
            "Enter the flight name Index(['SpiceJet', 'Indigo', 'KingFisher', 'Vistara', 'Emirates', 'Scoot'], dtype='object'): Indigo\n",
            "Please check the spelling of Flight name. Is it right?(yes or no): yes\n",
            "Enter the class name ('Business', 'First', 'Economy'): First\n",
            "Please check the spelling of Class name. Is it right?(yes or no): yes\n",
            "Enter name of passenger5: Aravind\n",
            "Please check the spelling of your name. Is it right?(yes or no): yes\n",
            "Enter age of passenger5 (only in numbers): 43\n",
            "Please check your age. Is it right?(yes or no): yes\n",
            "Enter gender of passenger5 (F/M/Others):M\n",
            "Enter the flight name Index(['SpiceJet', 'Indigo', 'KingFisher', 'Vistara', 'Emirates', 'Scoot'], dtype='object'): KingFisher\n",
            "Please check the spelling of Flight name. Is it right?(yes or no): yes\n",
            "Enter the class name ('Business', 'First', 'Economy'): Economy\n",
            "Please check the spelling of Class name. Is it right?(yes or no): yes\n",
            "Enter name of passenger6: Abirami\n",
            "Please check the spelling of your name. Is it right?(yes or no): yes\n",
            "Enter age of passenger6 (only in numbers): 38\n",
            "Please check your age. Is it right?(yes or no): yes\n",
            "Enter gender of passenger6 (F/M/Others):F\n",
            "Enter the flight name Index(['SpiceJet', 'Indigo', 'KingFisher', 'Vistara', 'Emirates', 'Scoot'], dtype='object'): KingFisher\n",
            "Please check the spelling of Flight name. Is it right?(yes or no): yes\n",
            "Enter the class name ('Business', 'First', 'Economy'): Economy\n",
            "Please check the spelling of Class name. Is it right?(yes or no): yes\n",
            "Enter name of passenger7: Yuthiga\n",
            "Please check the spelling of your name. Is it right?(yes or no): yes\n",
            "Enter age of passenger7 (only in numbers): 19\n",
            "Please check your age. Is it right?(yes or no): yes\n",
            "Enter gender of passenger7 (F/M/Others):F\n",
            "Enter the flight name Index(['SpiceJet', 'Indigo', 'KingFisher', 'Vistara', 'Emirates', 'Scoot'], dtype='object'): Scoot\n",
            "Please check the spelling of Flight name. Is it right?(yes or no): yes\n",
            "Enter the class name ('Business', 'First', 'Economy'): Business\n",
            "Please check the spelling of Class name. Is it right?(yes or no): yes\n",
            "Enter name of passenger8: Harshitaa\n",
            "Please check the spelling of your name. Is it right?(yes or no): yes\n",
            "Enter age of passenger8 (only in numbers): 17\n",
            "Please check your age. Is it right?(yes or no): yes\n",
            "Enter gender of passenger8 (F/M/Others):F\n",
            "Enter the flight name Index(['SpiceJet', 'Indigo', 'KingFisher', 'Vistara', 'Emirates', 'Scoot'], dtype='object'): Emirates\n",
            "Please check the spelling of Flight name. Is it right?(yes or no): yes\n",
            "Enter the class name ('Business', 'First', 'Economy'): First\n",
            "Please check the spelling of Class name. Is it right?(yes or no): yes\n",
            "Enter name of passenger9: yeshvanth\n",
            "Please check the spelling of your name. Is it right?(yes or no): yes\n",
            "Enter age of passenger9 (only in numbers): 13\n",
            "Please check your age. Is it right?(yes or no): yes\n",
            "Enter gender of passenger9 (F/M/Others):M\n",
            "Enter the flight name Index(['SpiceJet', 'Indigo', 'KingFisher', 'Vistara', 'Emirates', 'Scoot'], dtype='object'): Emirates\n",
            "Please check the spelling of Flight name. Is it right?(yes or no): yes\n",
            "Enter the class name ('Business', 'First', 'Economy'): First\n",
            "Please check the spelling of Class name. Is it right?(yes or no): yes\n",
            "First is not available in the flight Emirates\n",
            "Enter the class name ('Business', 'First', 'Economy'): Business\n",
            "Enter name of passenger10: ABCJI\n",
            "Please check the spelling of your name. Is it right?(yes or no): no\n",
            "Enter name of passenger10: Ayyaka\n",
            "Enter age of passenger10 (only in numbers): 60\n",
            "Please check your age. Is it right?(yes or no): yes\n",
            "Enter gender of passenger10 (F/M/Others):F\n",
            "Enter the flight name Index(['SpiceJet', 'Indigo', 'KingFisher', 'Vistara', 'Emirates', 'Scoot'], dtype='object'): Vistara\n",
            "Please check the spelling of Flight name. Is it right?(yes or no): yes\n",
            "Enter the class name ('Business', 'First', 'Economy'): Economy\n",
            "Please check the spelling of Class name. Is it right?(yes or no): yes\n",
            "             Name Age Gender Flight Name     Class     Ticket No\n",
            "1       Jayabalan  70      M    SpiceJet  Business  TCKT-2225089\n",
            "2   Kousalya Devi  68      F    SpiceJet  Business  TCKT-1336261\n",
            "3            Arun  47      M      Indigo     First  TCKT-2979498\n",
            "4          Anusha  45      F      Indigo     First  TCKT-0871884\n",
            "5         Aravind  43      M  KingFisher   Economy  TCKT-1969058\n",
            "6         Abirami  38      F  KingFisher   Economy  TCKT-8444722\n",
            "7         Yuthiga  19      F       Scoot  Business  TCKT-2731215\n",
            "8       Harshitaa  17      F    Emirates     First  TCKT-4982431\n",
            "9       yeshvanth  13      M    Emirates  Business  TCKT-9216135\n",
            "10         Ayyaka  60      F     Vistara   Economy  TCKT-6121274\n",
            "          SpiceJet  Indigo  KingFisher  Vistara  Emirates  Scoot\n",
            "Business         1       3           1        5         2      7\n",
            "First            4       0           2        4         0      2\n",
            "Economy          5       6           3        1         4      1\n",
            "Your Booking has been confirmed. Please enjoy your flight.\n",
            "Enter your choice ('1.Flight Availability', '2.Ticket Booking', '3.Ticket Cancellation', '4.Flight Detail', '5.Exit'): 2\n",
            "No of passengers: 1\n",
            "Enter name of passenger1: ABC\n",
            "Please check the spelling of your name. Is it right?(yes or no): yes\n",
            "Enter age of passenger1 (only in numbers): 21\n",
            "Please check your age. Is it right?(yes or no): yes\n",
            "Enter gender of passenger1 (F/M/Others):F\n",
            "Enter the flight name Index(['SpiceJet', 'Indigo', 'KingFisher', 'Vistara', 'Emirates', 'Scoot'], dtype='object'): Vistara\n",
            "Please check the spelling of Flight name. Is it right?(yes or no): yes\n",
            "Enter the class name ('Business', 'First', 'Economy'): Business\n",
            "Please check the spelling of Class name. Is it right?(yes or no): yes\n",
            "             Name Age Gender Flight Name     Class     Ticket No\n",
            "0       Jayabalan  70      M    SpiceJet  Business  TCKT-2225089\n",
            "1   Kousalya Devi  68      F    SpiceJet  Business  TCKT-1336261\n",
            "2            Arun  47      M      Indigo     First  TCKT-2979498\n",
            "3          Anusha  45      F      Indigo     First  TCKT-0871884\n",
            "4         Aravind  43      M  KingFisher   Economy  TCKT-1969058\n",
            "5         Abirami  38      F  KingFisher   Economy  TCKT-8444722\n",
            "6         Yuthiga  19      F       Scoot  Business  TCKT-2731215\n",
            "7       Harshitaa  17      F    Emirates     First  TCKT-4982431\n",
            "8       yeshvanth  13      M    Emirates  Business  TCKT-9216135\n",
            "9          Ayyaka  60      F     Vistara   Economy  TCKT-6121274\n",
            "10            ABC  21      F     Vistara  Business  TCKT-2861827\n",
            "          SpiceJet  Indigo  KingFisher  Vistara  Emirates  Scoot\n",
            "Business         1       3           1        4         2      7\n",
            "First            4       0           2        4         0      2\n",
            "Economy          5       6           3        1         4      1\n",
            "Your Booking has been confirmed. Please enjoy your flight.\n",
            "Enter your choice ('1.Flight Availability', '2.Ticket Booking', '3.Ticket Cancellation', '4.Flight Detail', '5.Exit'): 3\n",
            "Enter the no of tickets to be cancelled: 1\n",
            "Enter the ticket no that is to be cancelled: TCKT-2861827\n",
            "Please check the ticket number. Is it right?(yes or no): yes\n",
            "            Name Age Gender Flight Name     Class     Ticket No\n",
            "0      Jayabalan  70      M    SpiceJet  Business  TCKT-2225089\n",
            "1  Kousalya Devi  68      F    SpiceJet  Business  TCKT-1336261\n",
            "2           Arun  47      M      Indigo     First  TCKT-2979498\n",
            "3         Anusha  45      F      Indigo     First  TCKT-0871884\n",
            "4        Aravind  43      M  KingFisher   Economy  TCKT-1969058\n",
            "5        Abirami  38      F  KingFisher   Economy  TCKT-8444722\n",
            "6        Yuthiga  19      F       Scoot  Business  TCKT-2731215\n",
            "7      Harshitaa  17      F    Emirates     First  TCKT-4982431\n",
            "8      yeshvanth  13      M    Emirates  Business  TCKT-9216135\n",
            "9         Ayyaka  60      F     Vistara   Economy  TCKT-6121274\n",
            "Your ticket has been cancelled successfully.\n",
            "Enter your choice ('1.Flight Availability', '2.Ticket Booking', '3.Ticket Cancellation', '4.Flight Detail', '5.Exit'): 4\n",
            "     Name Age Gender Flight Name    Class     Ticket No\n",
            "9  Ayyaka  60      F     Vistara  Economy  TCKT-6121274\n",
            "        Name Age Gender Flight Name     Class     Ticket No\n",
            "7  Harshitaa  17      F    Emirates     First  TCKT-4982431\n",
            "8  yeshvanth  13      M    Emirates  Business  TCKT-9216135\n",
            "      Name Age Gender Flight Name    Class     Ticket No\n",
            "4  Aravind  43      M  KingFisher  Economy  TCKT-1969058\n",
            "5  Abirami  38      F  KingFisher  Economy  TCKT-8444722\n",
            "            Name Age Gender Flight Name     Class     Ticket No\n",
            "0      Jayabalan  70      M    SpiceJet  Business  TCKT-2225089\n",
            "1  Kousalya Devi  68      F    SpiceJet  Business  TCKT-1336261\n",
            "      Name Age Gender Flight Name     Class     Ticket No\n",
            "6  Yuthiga  19      F       Scoot  Business  TCKT-2731215\n",
            "     Name Age Gender Flight Name  Class     Ticket No\n",
            "2    Arun  47      M      Indigo  First  TCKT-2979498\n",
            "3  Anusha  45      F      Indigo  First  TCKT-0871884\n",
            "Enter your choice ('1.Flight Availability', '2.Ticket Booking', '3.Ticket Cancellation', '4.Flight Detail', '5.Exit'): 5\n",
            "Thank you for using our website.\n"
          ]
        }
      ]
    }
  ]
}