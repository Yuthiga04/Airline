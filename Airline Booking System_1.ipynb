{
 "cells": [
  {
   "cell_type": "code",
   "execution_count": 18,
   "metadata": {},
   "outputs": [],
   "source": [
    "import random\n",
    "import string\n",
    "import numpy as np\n",
    "import pandas as pd"
   ]
  },
  {
   "cell_type": "code",
   "execution_count": 19,
   "metadata": {},
   "outputs": [],
   "source": [
    "def check_type(n):\n",
    "    try:\n",
    "        a=int(n)\n",
    "        return a\n",
    "    except ValueError:\n",
    "        try:\n",
    "            a=float(n)\n",
    "            return a\n",
    "        except:\n",
    "            return n\n",
    "    return n"
   ]
  },
  {
   "cell_type": "code",
   "execution_count": 20,
   "metadata": {},
   "outputs": [],
   "source": [
    "def display_menu():\n",
    "    return \"1.Flight Availability\",\"2.Ticket Booking\",\"3.Ticket Cancellation\",\"4.Flight Detail\",\"5.Exit\""
   ]
  },
  {
   "cell_type": "code",
   "execution_count": 21,
   "metadata": {},
   "outputs": [],
   "source": [
    "def flight_class():\n",
    "    return \"Business\",\"First\",\"Economy\""
   ]
  },
  {
   "cell_type": "code",
   "execution_count": 22,
   "metadata": {},
   "outputs": [],
   "source": [
    "def flights_availability():\n",
    "    dic={}\n",
    "    n=int(input(\"No of Flights: \"))\n",
    "    i=1\n",
    "    while i<=n:\n",
    "        key=input(\"Enter the flight name: \")\n",
    "        value=[]\n",
    "        n1=int(input(\"No of classes available: \"))\n",
    "        for j in range(n1):\n",
    "            c=check_type(input(\"Enter the number of seats available: \"))\n",
    "            value.append(c)\n",
    "        dic[key]=value\n",
    "        i+=1\n",
    "    return dic"
   ]
  },
  {
   "cell_type": "code",
   "execution_count": 13,
   "metadata": {},
   "outputs": [],
   "source": [
    "idx=['Business','First','Economy']\n",
    "a=flights_availability()\n",
    "df=pd.DataFrame(a,idx)"
   ]
  },
  {
   "cell_type": "code",
   "execution_count": 23,
   "metadata": {},
   "outputs": [],
   "source": [
    "unique=set()\n",
    "valid_chars='0123456789'\n",
    "def ticket(length):\n",
    "    p=''\n",
    "    count=0\n",
    "    while count<length:\n",
    "        rnum=random.randint(0,128)\n",
    "        char=chr(rnum)\n",
    "        if char in valid_chars:\n",
    "            p+=chr(rnum)\n",
    "            count+=1\n",
    "    w='TCKT-'+p\n",
    "    if w not in unique:\n",
    "        unique.add(w)\n",
    "        return w\n",
    "    else:\n",
    "        return ticket(7)"
   ]
  },
  {
   "cell_type": "code",
   "execution_count": 24,
   "metadata": {},
   "outputs": [],
   "source": [
    "def passenger_details():\n",
    "    global df,d1\n",
    "    dic6={}\n",
    "    n=int(input(\"No of passengers: \"))\n",
    "    for i in range(n):\n",
    "        key=f\"{i+1}\"\n",
    "        n1=1\n",
    "        for _ in range(n1):\n",
    "            name=input(f\"Enter name of passenger{i+1}: \")\n",
    "            check_name=input(\"Please check the spelling of your name. Is it right?(yes or no): \")\n",
    "            if check_name=='no':\n",
    "                name=input(f\"Enter name of passenger{i+1}: \")\n",
    "            age=int(input(f\"Enter age of passenger{i+1} (only in numbers): \"))\n",
    "            check_age=input(\"Please check your age. Is it right?(yes or no): \")\n",
    "            if check_age=='no':\n",
    "                age=int(input(f\"Enter age of passenger{i+1} (only in numbers): \"))\n",
    "            gender=str(input(f\"Enter gender of passenger{i+1} (F/M/Others):\"))\n",
    "            b=df.columns\n",
    "            flight=str(input(f\"Enter the flight name {b}: \"))\n",
    "            check_flight=input(\"Please check the spelling of Flight name. Is it right?(yes or no): \")\n",
    "            if check_flight=='no':\n",
    "                flight=str(input(f\"Enter the flight name {b}: \"))\n",
    "            y,u,t=flight_class()\n",
    "            class_1=str(input(f\"Enter the class name {y,u,t}: \"))\n",
    "            check_class=input(\"Please check the spelling of Class name. Is it right?(yes or no): \")\n",
    "            if check_class=='no':\n",
    "                class_1=str(input(f\"Enter the class name {y,u,t}: \"))\n",
    "            if df[flight][class_1]==0:\n",
    "                print(f\"{class_1} is not available in the flight {flight}\")\n",
    "                g,o,p=flight_class()\n",
    "                class_1=str(input(f\"Enter the class name {g,o,p}: \"))\n",
    "            ticket_1=ticket(7)\n",
    "        dic6[key]={'Name': name, 'Age':age,'Gender':gender,'Flight Name':flight,'Class':class_1,'Ticket No':ticket_1}\n",
    "        df[flight][class_1]-=1\n",
    "    new_df=pd.DataFrame(dic6).T\n",
    "    new_df=new_df[['Name','Age','Gender','Flight Name','Class','Ticket No']]\n",
    "    if 'd1' in globals():\n",
    "        d1 = pd.concat([d1, new_df],ignore_index=True)\n",
    "    else:\n",
    "        d1 = new_df\n",
    "    print(d1)\n",
    "    print(df)\n",
    "    print(\"Your Booking has been confirmed. Please enjoy your flight.\")"
   ]
  },
  {
   "cell_type": "code",
   "execution_count": 25,
   "metadata": {},
   "outputs": [],
   "source": [
    "def booking_cancellation():\n",
    "    global d1\n",
    "    del_tckt=int(input(\"Enter the no of tickets to be cancelled: \"))\n",
    "    for _ in range(del_tckt):\n",
    "        tckt_no=check_type(input(\"Enter the ticket no that is to be cancelled: \"))\n",
    "        check_ticketno=input(\"Please check the ticket number. Is it right?(yes or no): \")\n",
    "        if check_ticketno=='no':\n",
    "            tckt_no=check_type(input(\"Enter the ticket no that is to be cancelled: \"))\n",
    "        s=d1[d1['Ticket No']==tckt_no]\n",
    "        idx=s.index[0] if not s.empty else None\n",
    "        flight_name=s['Flight Name'][idx]\n",
    "        class_name=s['Class'][idx]\n",
    "        df[flight_name][class_name]+=1\n",
    "        d1=d1[d1['Ticket No']!=tckt_no]\n",
    "    print(d1)\n",
    "    print(\"Your ticket has been cancelled successfully.\")"
   ]
  },
  {
   "cell_type": "code",
   "execution_count": 26,
   "metadata": {},
   "outputs": [],
   "source": [
    "def uniq_ele(lis):\n",
    "    return set(lis)"
   ]
  },
  {
   "cell_type": "code",
   "execution_count": 27,
   "metadata": {},
   "outputs": [],
   "source": [
    "global d1\n",
    "def flight_detail():\n",
    "    lis=list(d1['Flight Name'])\n",
    "    unique_flights=uniq_ele(lis)\n",
    "    for i in unique_flights:\n",
    "        print(d1[d1['Flight Name']==i])"
   ]
  },
  {
   "cell_type": "code",
   "execution_count": 28,
   "metadata": {},
   "outputs": [
    {
     "name": "stdout",
     "output_type": "stream",
     "text": [
      "          SpiceJet  Indigo  KingFisher  Vistara  Emirates  Scoot\n",
      "Business         3       3           1        4         2      4\n",
      "First            4       2           2        6         4      5\n",
      "Economy          5       6           5        5         3      3\n",
      "        Name Age Gender Flight Name     Class     Ticket No\n",
      "1       Arun  47      M    SpiceJet  Business  TCKT-8276473\n",
      "2     Anusha  45      F      Indigo     First  TCKT-6433768\n",
      "3    Yuthiga  19      F  KingFisher   Economy  TCKT-2546229\n",
      "4  Harshitaa  17      F     Vistara  Business  TCKT-3439935\n",
      "          SpiceJet  Indigo  KingFisher  Vistara  Emirates  Scoot\n",
      "Business         2       3           1        3         2      4\n",
      "First            4       1           2        6         4      5\n",
      "Economy          5       6           4        5         3      3\n",
      "Your Booking has been confirmed. Please enjoy your flight.\n",
      "        Name Age Gender Flight Name     Class     Ticket No\n",
      "1       Arun  47      M    SpiceJet  Business  TCKT-8276473\n",
      "2     Anusha  45      F      Indigo     First  TCKT-6433768\n",
      "4  Harshitaa  17      F     Vistara  Business  TCKT-3439935\n",
      "Your ticket has been cancelled successfully.\n",
      "        Name Age Gender Flight Name     Class     Ticket No\n",
      "0       Arun  47      M    SpiceJet  Business  TCKT-8276473\n",
      "1     Anusha  45      F      Indigo     First  TCKT-6433768\n",
      "2  Harshitaa  17      F     Vistara  Business  TCKT-3439935\n",
      "3  Jayabalan  70      M       Scoot     First  TCKT-0742046\n",
      "          SpiceJet  Indigo  KingFisher  Vistara  Emirates  Scoot\n",
      "Business         2       3           1        3         2      4\n",
      "First            4       1           2        6         4      4\n",
      "Economy          5       6           5        5         3      3\n",
      "Your Booking has been confirmed. Please enjoy your flight.\n",
      "     Name Age Gender Flight Name  Class     Ticket No\n",
      "1  Anusha  45      F      Indigo  First  TCKT-6433768\n",
      "        Name Age Gender Flight Name  Class     Ticket No\n",
      "3  Jayabalan  70      M       Scoot  First  TCKT-0742046\n",
      "   Name Age Gender Flight Name     Class     Ticket No\n",
      "0  Arun  47      M    SpiceJet  Business  TCKT-8276473\n",
      "        Name Age Gender Flight Name     Class     Ticket No\n",
      "2  Harshitaa  17      F     Vistara  Business  TCKT-3439935\n",
      "Thank you for using our website.\n"
     ]
    }
   ],
   "source": [
    "while True:\n",
    "    h,i,g,z,x=display_menu()\n",
    "    choice=int(input(f\"Enter your choice {h,i,g,z,x}: \"))\n",
    "    if choice==1:\n",
    "        print(df)\n",
    "    elif choice==2:\n",
    "        passenger_details()\n",
    "    elif choice==3:\n",
    "        booking_cancellation()\n",
    "    elif choice==4:\n",
    "        flight_detail()\n",
    "    elif choice==5:\n",
    "        print(\"Thank you for using our website.\")\n",
    "        break\n",
    "    else:\n",
    "        print(\"Invalid Choice. Please enter choices from 1-5.\")"
   ]
  }
 ],
 "metadata": {
  "kernelspec": {
   "display_name": "Python 3",
   "language": "python",
   "name": "python3"
  },
  "language_info": {
   "codemirror_mode": {
    "name": "ipython",
    "version": 3
   },
   "file_extension": ".py",
   "mimetype": "text/x-python",
   "name": "python",
   "nbconvert_exporter": "python",
   "pygments_lexer": "ipython3",
   "version": "3.11.9"
  }
 },
 "nbformat": 4,
 "nbformat_minor": 2
}
